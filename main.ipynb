{
 "cells": [
  {
   "cell_type": "code",
   "execution_count": 1,
   "metadata": {},
   "outputs": [],
   "source": [
    "import pandas as pd\n",
    "from skimpy import skim\n",
    "from scipy import sparse\n",
    "import numpy as np\n",
    "import json\n",
    "import os"
   ]
  },
  {
   "cell_type": "code",
   "execution_count": 2,
   "metadata": {},
   "outputs": [],
   "source": [
    "path = r'C:\\Users\\pcteste1\\Downloads\\2012-2013-data-with-predictions-4-final'\n",
    "file = '2012-2013-data-with-predictions-4-final.csv'\n",
    "file_path = os.path.join(path, file)"
   ]
  },
  {
   "cell_type": "code",
   "execution_count": 12,
   "metadata": {},
   "outputs": [],
   "source": [
    "df = pd.read_csv(file_path)"
   ]
  },
  {
   "cell_type": "code",
   "execution_count": 12,
   "metadata": {},
   "outputs": [
    {
     "data": {
      "text/plain": [
       "(6123270, 35)"
      ]
     },
     "execution_count": 12,
     "metadata": {},
     "output_type": "execute_result"
    }
   ],
   "source": [
    "df.shape"
   ]
  },
  {
   "cell_type": "code",
   "execution_count": 15,
   "metadata": {},
   "outputs": [
    {
     "data": {
      "text/html": [
       "<pre style=\"white-space:pre;overflow-x:auto;line-height:normal;font-family:Menlo,'DejaVu Sans Mono',consolas,'Courier New',monospace\">╭──────────────────────────────────────────────── skimpy summary ─────────────────────────────────────────────────╮\n",
       "│ <span style=\"font-style: italic\">         Data Summary          </span> <span style=\"font-style: italic\">      Data Types       </span>                                                         │\n",
       "│ ┏━━━━━━━━━━━━━━━━━━━┳━━━━━━━━━┓ ┏━━━━━━━━━━━━━┳━━━━━━━┓                                                         │\n",
       "│ ┃<span style=\"color: #008080; text-decoration-color: #008080; font-weight: bold\"> dataframe         </span>┃<span style=\"color: #008080; text-decoration-color: #008080; font-weight: bold\"> Values  </span>┃ ┃<span style=\"color: #008080; text-decoration-color: #008080; font-weight: bold\"> Column Type </span>┃<span style=\"color: #008080; text-decoration-color: #008080; font-weight: bold\"> Count </span>┃                                                         │\n",
       "│ ┡━━━━━━━━━━━━━━━━━━━╇━━━━━━━━━┩ ┡━━━━━━━━━━━━━╇━━━━━━━┩                                                         │\n",
       "│ │ Number of rows    │ 6123270 │ │ int32       │ 18    │                                                         │\n",
       "│ │ Number of columns │ 35      │ │ float64     │ 9     │                                                         │\n",
       "│ └───────────────────┴─────────┘ │ string      │ 8     │                                                         │\n",
       "│                                 └─────────────┴───────┘                                                         │\n",
       "│ <span style=\"font-style: italic\">                                                    number                                                    </span>  │\n",
       "│ ┏━━━━━━━━━┳━━━━━━━━━┳━━━━━━━┳━━━━━━━━━┳━━━━━━━━━┳━━━━━━━━━┳━━━━━━━━━┳━━━━━━━━━━┳━━━━━━━━━┳━━━━━━━━━━┳━━━━━━━━┓  │\n",
       "│ ┃<span style=\"font-weight: bold\"> column_ </span>┃<span style=\"font-weight: bold\">         </span>┃<span style=\"font-weight: bold\">       </span>┃<span style=\"font-weight: bold\">         </span>┃<span style=\"font-weight: bold\">         </span>┃<span style=\"font-weight: bold\">         </span>┃<span style=\"font-weight: bold\">         </span>┃<span style=\"font-weight: bold\">          </span>┃<span style=\"font-weight: bold\">         </span>┃<span style=\"font-weight: bold\">          </span>┃<span style=\"font-weight: bold\">        </span>┃  │\n",
       "│ ┃<span style=\"font-weight: bold\"> name    </span>┃<span style=\"font-weight: bold\"> NA      </span>┃<span style=\"font-weight: bold\"> NA %  </span>┃<span style=\"font-weight: bold\"> mean    </span>┃<span style=\"font-weight: bold\"> sd      </span>┃<span style=\"font-weight: bold\"> p0      </span>┃<span style=\"font-weight: bold\"> p25     </span>┃<span style=\"font-weight: bold\"> p50      </span>┃<span style=\"font-weight: bold\"> p75     </span>┃<span style=\"font-weight: bold\"> p100     </span>┃<span style=\"font-weight: bold\"> hist   </span>┃  │\n",
       "│ ┡━━━━━━━━━╇━━━━━━━━━╇━━━━━━━╇━━━━━━━━━╇━━━━━━━━━╇━━━━━━━━━╇━━━━━━━━━╇━━━━━━━━━━╇━━━━━━━━━╇━━━━━━━━━━╇━━━━━━━━┩  │\n",
       "│ │ <span style=\"color: #af87ff; text-decoration-color: #af87ff\">problem</span> │ <span style=\"color: #008080; text-decoration-color: #008080\">      0</span> │ <span style=\"color: #008080; text-decoration-color: #008080\">    0</span> │ <span style=\"color: #008080; text-decoration-color: #008080\">1415000</span> │ <span style=\"color: #008080; text-decoration-color: #008080\">2694000</span> │ <span style=\"color: #008080; text-decoration-color: #008080\">1368000</span> │ <span style=\"color: #008080; text-decoration-color: #008080\">1392000</span> │ <span style=\"color: #008080; text-decoration-color: #008080\">14150000</span> │ <span style=\"color: #008080; text-decoration-color: #008080\">1438000</span> │ <span style=\"color: #008080; text-decoration-color: #008080\">14620000</span> │ <span style=\"color: #008000; text-decoration-color: #008000\">▇▇▇▇▇▇</span> │  │\n",
       "│ │ <span style=\"color: #af87ff; text-decoration-color: #af87ff\">_log_id</span> │         │       │ <span style=\"color: #008080; text-decoration-color: #008080\">     00</span> │         │ <span style=\"color: #008080; text-decoration-color: #008080\">     00</span> │ <span style=\"color: #008080; text-decoration-color: #008080\">     00</span> │ <span style=\"color: #008080; text-decoration-color: #008080\">       0</span> │ <span style=\"color: #008080; text-decoration-color: #008080\">     00</span> │ <span style=\"color: #008080; text-decoration-color: #008080\">       0</span> │        │  │\n",
       "│ │ <span style=\"color: #af87ff; text-decoration-color: #af87ff\">problem</span> │ <span style=\"color: #008080; text-decoration-color: #008080\">      0</span> │ <span style=\"color: #008080; text-decoration-color: #008080\">    0</span> │ <span style=\"color: #008080; text-decoration-color: #008080\"> 368600</span> │ <span style=\"color: #008080; text-decoration-color: #008080\"> 219500</span> │ <span style=\"color: #008080; text-decoration-color: #008080\">      1</span> │ <span style=\"color: #008080; text-decoration-color: #008080\"> 128400</span> │ <span style=\"color: #008080; text-decoration-color: #008080\">  416800</span> │ <span style=\"color: #008080; text-decoration-color: #008080\"> 564400</span> │ <span style=\"color: #008080; text-decoration-color: #008080\">  767100</span> │ <span style=\"color: #008000; text-decoration-color: #008000\">▇▃▂▇▇▃</span> │  │\n",
       "│ │ <span style=\"color: #af87ff; text-decoration-color: #af87ff\">_id    </span> │         │       │         │         │         │         │          │         │          │        │  │\n",
       "│ │ <span style=\"color: #af87ff; text-decoration-color: #af87ff\">user_id</span> │ <span style=\"color: #008080; text-decoration-color: #008080\">      0</span> │ <span style=\"color: #008080; text-decoration-color: #008080\">    0</span> │ <span style=\"color: #008080; text-decoration-color: #008080\"> 177000</span> │ <span style=\"color: #008080; text-decoration-color: #008080\">  31720</span> │ <span style=\"color: #008080; text-decoration-color: #008080\">  21420</span> │ <span style=\"color: #008080; text-decoration-color: #008080\"> 172000</span> │ <span style=\"color: #008080; text-decoration-color: #008080\">  179200</span> │ <span style=\"color: #008080; text-decoration-color: #008080\"> 197300</span> │ <span style=\"color: #008080; text-decoration-color: #008080\">  228200</span> │ <span style=\"color: #008000; text-decoration-color: #008000\">  ▁▁▇▃</span> │  │\n",
       "│ │ <span style=\"color: #af87ff; text-decoration-color: #af87ff\">assignm</span> │ <span style=\"color: #008080; text-decoration-color: #008080\">      0</span> │ <span style=\"color: #008080; text-decoration-color: #008080\">    0</span> │ <span style=\"color: #008080; text-decoration-color: #008080\"> 677300</span> │ <span style=\"color: #008080; text-decoration-color: #008080\">  94260</span> │ <span style=\"color: #008080; text-decoration-color: #008080\"> 181500</span> │ <span style=\"color: #008080; text-decoration-color: #008080\"> 586400</span> │ <span style=\"color: #008080; text-decoration-color: #008080\">  678600</span> │ <span style=\"color: #008080; text-decoration-color: #008080\"> 767200</span> │ <span style=\"color: #008080; text-decoration-color: #008080\">  833100</span> │ <span style=\"color: #008000; text-decoration-color: #008000\">   ▇▆▇</span> │  │\n",
       "│ │ <span style=\"color: #af87ff; text-decoration-color: #af87ff\">ent_id </span> │         │       │         │         │         │         │          │         │          │        │  │\n",
       "│ │ <span style=\"color: #af87ff; text-decoration-color: #af87ff\">assistm</span> │ <span style=\"color: #008080; text-decoration-color: #008080\">      0</span> │ <span style=\"color: #008080; text-decoration-color: #008080\">    0</span> │ <span style=\"color: #008080; text-decoration-color: #008080\"> 220300</span> │ <span style=\"color: #008080; text-decoration-color: #008080\"> 139400</span> │ <span style=\"color: #008080; text-decoration-color: #008080\">      5</span> │ <span style=\"color: #008080; text-decoration-color: #008080\">  68840</span> │ <span style=\"color: #008080; text-decoration-color: #008080\">  239900</span> │ <span style=\"color: #008080; text-decoration-color: #008080\"> 346700</span> │ <span style=\"color: #008080; text-decoration-color: #008080\">  492600</span> │ <span style=\"color: #008000; text-decoration-color: #008000\">▇▃▅▅▆▂</span> │  │\n",
       "│ │ <span style=\"color: #af87ff; text-decoration-color: #af87ff\">ent_id </span> │         │       │         │         │         │         │          │         │          │        │  │\n",
       "│ │ <span style=\"color: #af87ff; text-decoration-color: #af87ff\">origina</span> │ <span style=\"color: #008080; text-decoration-color: #008080\">      0</span> │ <span style=\"color: #008080; text-decoration-color: #008080\">    0</span> │ <span style=\"color: #008080; text-decoration-color: #008080\"> 0.9504</span> │ <span style=\"color: #008080; text-decoration-color: #008080\"> 0.2171</span> │ <span style=\"color: #008080; text-decoration-color: #008080\">      0</span> │ <span style=\"color: #008080; text-decoration-color: #008080\">      1</span> │ <span style=\"color: #008080; text-decoration-color: #008080\">       1</span> │ <span style=\"color: #008080; text-decoration-color: #008080\">      1</span> │ <span style=\"color: #008080; text-decoration-color: #008080\">       1</span> │ <span style=\"color: #008000; text-decoration-color: #008000\">     ▇</span> │  │\n",
       "│ │ <span style=\"color: #af87ff; text-decoration-color: #af87ff\">l      </span> │         │       │         │         │         │         │          │         │          │        │  │\n",
       "│ │ <span style=\"color: #af87ff; text-decoration-color: #af87ff\">correct</span> │ <span style=\"color: #008080; text-decoration-color: #008080\">      0</span> │ <span style=\"color: #008080; text-decoration-color: #008080\">    0</span> │ <span style=\"color: #008080; text-decoration-color: #008080\"> 0.6768</span> │ <span style=\"color: #008080; text-decoration-color: #008080\"> 0.4675</span> │ <span style=\"color: #008080; text-decoration-color: #008080\">      0</span> │ <span style=\"color: #008080; text-decoration-color: #008080\">      0</span> │ <span style=\"color: #008080; text-decoration-color: #008080\">       1</span> │ <span style=\"color: #008080; text-decoration-color: #008080\">      1</span> │ <span style=\"color: #008080; text-decoration-color: #008080\">       1</span> │ <span style=\"color: #008000; text-decoration-color: #008000\">▃    ▇</span> │  │\n",
       "│ │ <span style=\"color: #af87ff; text-decoration-color: #af87ff\">bottom_</span> │ <span style=\"color: #008080; text-decoration-color: #008080\">  60348</span> │ <span style=\"color: #008080; text-decoration-color: #008080\"> 0.99</span> │ <span style=\"color: #008080; text-decoration-color: #008080\">   0.12</span> │ <span style=\"color: #008080; text-decoration-color: #008080\">  0.325</span> │ <span style=\"color: #008080; text-decoration-color: #008080\">      0</span> │ <span style=\"color: #008080; text-decoration-color: #008080\">      0</span> │ <span style=\"color: #008080; text-decoration-color: #008080\">       0</span> │ <span style=\"color: #008080; text-decoration-color: #008080\">      0</span> │ <span style=\"color: #008080; text-decoration-color: #008080\">       1</span> │ <span style=\"color: #008000; text-decoration-color: #008000\">▇    ▁</span> │  │\n",
       "│ │ <span style=\"color: #af87ff; text-decoration-color: #af87ff\">hint   </span> │         │       │         │         │         │         │          │         │          │        │  │\n",
       "│ │ <span style=\"color: #af87ff; text-decoration-color: #af87ff\">hint_co</span> │ <span style=\"color: #008080; text-decoration-color: #008080\">      0</span> │ <span style=\"color: #008080; text-decoration-color: #008080\">    0</span> │ <span style=\"color: #008080; text-decoration-color: #008080\"> 0.3373</span> │ <span style=\"color: #008080; text-decoration-color: #008080\"> 0.9852</span> │ <span style=\"color: #008080; text-decoration-color: #008080\">      0</span> │ <span style=\"color: #008080; text-decoration-color: #008080\">      0</span> │ <span style=\"color: #008080; text-decoration-color: #008080\">       0</span> │ <span style=\"color: #008080; text-decoration-color: #008080\">      0</span> │ <span style=\"color: #008080; text-decoration-color: #008080\">      14</span> │ <span style=\"color: #008000; text-decoration-color: #008000\">  ▇   </span> │  │\n",
       "│ │ <span style=\"color: #af87ff; text-decoration-color: #af87ff\">unt    </span> │         │       │         │         │         │         │          │         │          │        │  │\n",
       "│ │ <span style=\"color: #af87ff; text-decoration-color: #af87ff\">attempt</span> │ <span style=\"color: #008080; text-decoration-color: #008080\">      0</span> │ <span style=\"color: #008080; text-decoration-color: #008080\">    0</span> │ <span style=\"color: #008080; text-decoration-color: #008080\">  1.339</span> │ <span style=\"color: #008080; text-decoration-color: #008080\">  1.056</span> │ <span style=\"color: #008080; text-decoration-color: #008080\">      0</span> │ <span style=\"color: #008080; text-decoration-color: #008080\">      1</span> │ <span style=\"color: #008080; text-decoration-color: #008080\">       1</span> │ <span style=\"color: #008080; text-decoration-color: #008080\">      1</span> │ <span style=\"color: #008080; text-decoration-color: #008080\">      29</span> │ <span style=\"color: #008000; text-decoration-color: #008000\">  ▇   </span> │  │\n",
       "│ │ <span style=\"color: #af87ff; text-decoration-color: #af87ff\">_count </span> │         │       │         │         │         │         │          │         │          │        │  │\n",
       "│ │ <span style=\"color: #af87ff; text-decoration-color: #af87ff\">ms_firs</span> │ <span style=\"color: #008080; text-decoration-color: #008080\">      0</span> │ <span style=\"color: #008080; text-decoration-color: #008080\">    0</span> │ <span style=\"color: #008080; text-decoration-color: #008080\">  48730</span> │ <span style=\"color: #008080; text-decoration-color: #008080\"> 267400</span> │ <span style=\"color: #008080; text-decoration-color: #008080\">  -6767</span> │ <span style=\"color: #008080; text-decoration-color: #008080\">   9436</span> │ <span style=\"color: #008080; text-decoration-color: #008080\">   22330</span> │ <span style=\"color: #008080; text-decoration-color: #008080\">  54860</span> │ <span style=\"color: #008080; text-decoration-color: #008080\">34510000</span> │ <span style=\"color: #008000; text-decoration-color: #008000\">  ▇   </span> │  │\n",
       "│ │ <span style=\"color: #af87ff; text-decoration-color: #af87ff\">t_respo</span> │         │       │         │         │         │         │          │         │ <span style=\"color: #008080; text-decoration-color: #008080\">       0</span> │        │  │\n",
       "│ │ <span style=\"color: #af87ff; text-decoration-color: #af87ff\">nse    </span> │         │       │         │         │         │         │          │         │          │        │  │\n",
       "│ │ <span style=\"color: #af87ff; text-decoration-color: #af87ff\">sequenc</span> │ <span style=\"color: #008080; text-decoration-color: #008080\">      0</span> │ <span style=\"color: #008080; text-decoration-color: #008080\">    0</span> │ <span style=\"color: #008080; text-decoration-color: #008080\">  66900</span> │ <span style=\"color: #008080; text-decoration-color: #008080\">  59330</span> │ <span style=\"color: #008080; text-decoration-color: #008080\">      2</span> │ <span style=\"color: #008080; text-decoration-color: #008080\">  12660</span> │ <span style=\"color: #008080; text-decoration-color: #008080\">   46140</span> │ <span style=\"color: #008080; text-decoration-color: #008080\">  99010</span> │ <span style=\"color: #008080; text-decoration-color: #008080\">  208500</span> │ <span style=\"color: #008000; text-decoration-color: #008000\">▇▇▂▂▂▂</span> │  │\n",
       "│ │ <span style=\"color: #af87ff; text-decoration-color: #af87ff\">e_id   </span> │         │       │         │         │         │         │          │         │          │        │  │\n",
       "│ │ <span style=\"color: #af87ff; text-decoration-color: #af87ff\">student</span> │ <span style=\"color: #008080; text-decoration-color: #008080\">      0</span> │ <span style=\"color: #008080; text-decoration-color: #008080\">    0</span> │ <span style=\"color: #008080; text-decoration-color: #008080\">  23430</span> │ <span style=\"color: #008080; text-decoration-color: #008080\">   1612</span> │ <span style=\"color: #008080; text-decoration-color: #008080\">  11390</span> │ <span style=\"color: #008080; text-decoration-color: #008080\">  22520</span> │ <span style=\"color: #008080; text-decoration-color: #008080\">   23140</span> │ <span style=\"color: #008080; text-decoration-color: #008080\">  24600</span> │ <span style=\"color: #008080; text-decoration-color: #008080\">   27390</span> │ <span style=\"color: #008000; text-decoration-color: #008000\">   ▁▇▃</span> │  │\n",
       "│ │ <span style=\"color: #af87ff; text-decoration-color: #af87ff\">_class_</span> │         │       │         │         │         │         │          │         │          │        │  │\n",
       "│ │ <span style=\"color: #af87ff; text-decoration-color: #af87ff\">id     </span> │         │       │         │         │         │         │          │         │          │        │  │\n",
       "│ │ <span style=\"color: #af87ff; text-decoration-color: #af87ff\">positio</span> │ <span style=\"color: #008080; text-decoration-color: #008080\">      0</span> │ <span style=\"color: #008080; text-decoration-color: #008080\">    0</span> │ <span style=\"color: #008080; text-decoration-color: #008080\">  74.03</span> │ <span style=\"color: #008080; text-decoration-color: #008080\">  369.7</span> │ <span style=\"color: #008080; text-decoration-color: #008080\">      0</span> │ <span style=\"color: #008080; text-decoration-color: #008080\">      4</span> │ <span style=\"color: #008080; text-decoration-color: #008080\">      12</span> │ <span style=\"color: #008080; text-decoration-color: #008080\">     38</span> │ <span style=\"color: #008080; text-decoration-color: #008080\">    8533</span> │ <span style=\"color: #008000; text-decoration-color: #008000\">  ▇   </span> │  │\n",
       "│ │ <span style=\"color: #af87ff; text-decoration-color: #af87ff\">n      </span> │         │       │         │         │         │         │          │         │          │        │  │\n",
       "│ │ <span style=\"color: #af87ff; text-decoration-color: #af87ff\">base_se</span> │ <span style=\"color: #008080; text-decoration-color: #008080\">      0</span> │ <span style=\"color: #008080; text-decoration-color: #008080\">    0</span> │ <span style=\"color: #008080; text-decoration-color: #008080\">  62140</span> │ <span style=\"color: #008080; text-decoration-color: #008080\">  56870</span> │ <span style=\"color: #008080; text-decoration-color: #008080\">      2</span> │ <span style=\"color: #008080; text-decoration-color: #008080\">  11900</span> │ <span style=\"color: #008080; text-decoration-color: #008080\">   44930</span> │ <span style=\"color: #008080; text-decoration-color: #008080\">  87110</span> │ <span style=\"color: #008080; text-decoration-color: #008080\">  208500</span> │ <span style=\"color: #008000; text-decoration-color: #008000\">▇▇▂▁▁▂</span> │  │\n",
       "│ │ <span style=\"color: #af87ff; text-decoration-color: #af87ff\">quence_</span> │         │       │         │         │         │         │          │         │          │        │  │\n",
       "│ │ <span style=\"color: #af87ff; text-decoration-color: #af87ff\">id     </span> │         │       │         │         │         │         │          │         │          │        │  │\n",
       "│ │ <span style=\"color: #af87ff; text-decoration-color: #af87ff\">skill_i</span> │ <span style=\"color: #008080; text-decoration-color: #008080\">3411457</span> │ <span style=\"color: #008080; text-decoration-color: #008080\">55.71</span> │ <span style=\"color: #008080; text-decoration-color: #008080\">  193.3</span> │ <span style=\"color: #008080; text-decoration-color: #008080\">  130.3</span> │ <span style=\"color: #008080; text-decoration-color: #008080\">      1</span> │ <span style=\"color: #008080; text-decoration-color: #008080\">     65</span> │ <span style=\"color: #008080; text-decoration-color: #008080\">     277</span> │ <span style=\"color: #008080; text-decoration-color: #008080\">    310</span> │ <span style=\"color: #008080; text-decoration-color: #008080\">    1641</span> │ <span style=\"color: #008000; text-decoration-color: #008000\">  ▇▇  </span> │  │\n",
       "│ │ <span style=\"color: #af87ff; text-decoration-color: #af87ff\">d      </span> │         │       │         │         │         │         │          │         │          │        │  │\n",
       "│ │ <span style=\"color: #af87ff; text-decoration-color: #af87ff\">teacher</span> │ <span style=\"color: #008080; text-decoration-color: #008080\">      0</span> │ <span style=\"color: #008080; text-decoration-color: #008080\">    0</span> │ <span style=\"color: #008080; text-decoration-color: #008080\"> 121000</span> │ <span style=\"color: #008080; text-decoration-color: #008080\">  49790</span> │ <span style=\"color: #008080; text-decoration-color: #008080\">  11440</span> │ <span style=\"color: #008080; text-decoration-color: #008080\">  73060</span> │ <span style=\"color: #008080; text-decoration-color: #008080\">  128500</span> │ <span style=\"color: #008080; text-decoration-color: #008080\"> 156300</span> │ <span style=\"color: #008080; text-decoration-color: #008080\">  220500</span> │ <span style=\"color: #008000; text-decoration-color: #008000\">▂▆▅▇▆▃</span> │  │\n",
       "│ │ <span style=\"color: #af87ff; text-decoration-color: #af87ff\">_id    </span> │         │       │         │         │         │         │          │         │          │        │  │\n",
       "│ │ <span style=\"color: #af87ff; text-decoration-color: #af87ff\">school_</span> │ <span style=\"color: #008080; text-decoration-color: #008080\">    157</span> │ <span style=\"color: #008080; text-decoration-color: #008080\">    0</span> │ <span style=\"color: #008080; text-decoration-color: #008080\">   6925</span> │ <span style=\"color: #008080; text-decoration-color: #008080\">   3314</span> │ <span style=\"color: #008080; text-decoration-color: #008080\">      1</span> │ <span style=\"color: #008080; text-decoration-color: #008080\">   5260</span> │ <span style=\"color: #008080; text-decoration-color: #008080\">    5978</span> │ <span style=\"color: #008080; text-decoration-color: #008080\">   9394</span> │ <span style=\"color: #008080; text-decoration-color: #008080\">   12430</span> │ <span style=\"color: #008000; text-decoration-color: #008000\">▂▁▇▃▂▅</span> │  │\n",
       "│ │ <span style=\"color: #af87ff; text-decoration-color: #af87ff\">id     </span> │         │       │         │         │         │         │          │         │          │        │  │\n",
       "│ │ <span style=\"color: #af87ff; text-decoration-color: #af87ff\">overlap</span> │ <span style=\"color: #008080; text-decoration-color: #008080\">      0</span> │ <span style=\"color: #008080; text-decoration-color: #008080\">    0</span> │ <span style=\"color: #008080; text-decoration-color: #008080\">  49070</span> │ <span style=\"color: #008080; text-decoration-color: #008080\"> 288500</span> │ <span style=\"color: #008080; text-decoration-color: #008080\">  -6767</span> │ <span style=\"color: #008080; text-decoration-color: #008080\">   9468</span> │ <span style=\"color: #008080; text-decoration-color: #008080\">   22420</span> │ <span style=\"color: #008080; text-decoration-color: #008080\">  55050</span> │ <span style=\"color: #008080; text-decoration-color: #008080\">34530000</span> │ <span style=\"color: #008000; text-decoration-color: #008000\">  ▇   </span> │  │\n",
       "│ │ <span style=\"color: #af87ff; text-decoration-color: #af87ff\">_time  </span> │         │       │         │         │         │         │          │         │ <span style=\"color: #008080; text-decoration-color: #008080\">       0</span> │        │  │\n",
       "│ │ <span style=\"color: #af87ff; text-decoration-color: #af87ff\">templat</span> │ <span style=\"color: #008080; text-decoration-color: #008080\">      0</span> │ <span style=\"color: #008080; text-decoration-color: #008080\">    0</span> │ <span style=\"color: #008080; text-decoration-color: #008080\"> 208900</span> │ <span style=\"color: #008080; text-decoration-color: #008080\"> 145800</span> │ <span style=\"color: #008080; text-decoration-color: #008080\">      5</span> │ <span style=\"color: #008080; text-decoration-color: #008080\">  52590</span> │ <span style=\"color: #008080; text-decoration-color: #008080\">  239500</span> │ <span style=\"color: #008080; text-decoration-color: #008080\"> 343500</span> │ <span style=\"color: #008080; text-decoration-color: #008080\">  492600</span> │ <span style=\"color: #008000; text-decoration-color: #008000\">▇▂▃▃▅▂</span> │  │\n",
       "│ │ <span style=\"color: #af87ff; text-decoration-color: #af87ff\">e_id   </span> │         │       │         │         │         │         │          │         │          │        │  │\n",
       "│ │ <span style=\"color: #af87ff; text-decoration-color: #af87ff\">answer_</span> │ <span style=\"color: #008080; text-decoration-color: #008080\">6114995</span> │ <span style=\"color: #008080; text-decoration-color: #008080\">99.86</span> │ <span style=\"color: #008080; text-decoration-color: #008080\"> 432500</span> │ <span style=\"color: #008080; text-decoration-color: #008080\"> 353500</span> │ <span style=\"color: #008080; text-decoration-color: #008080\">      1</span> │ <span style=\"color: #008080; text-decoration-color: #008080\"> 106000</span> │ <span style=\"color: #008080; text-decoration-color: #008080\">  344300</span> │ <span style=\"color: #008080; text-decoration-color: #008080\"> 738600</span> │ <span style=\"color: #008080; text-decoration-color: #008080\"> 1185000</span> │ <span style=\"color: #008000; text-decoration-color: #008000\">▇▃▃▂▃▁</span> │  │\n",
       "│ │ <span style=\"color: #af87ff; text-decoration-color: #af87ff\">id     </span> │         │       │         │         │         │         │          │         │          │        │  │\n",
       "│ │ <span style=\"color: #af87ff; text-decoration-color: #af87ff\">first_a</span> │ <span style=\"color: #008080; text-decoration-color: #008080\">      0</span> │ <span style=\"color: #008080; text-decoration-color: #008080\">    0</span> │ <span style=\"color: #008080; text-decoration-color: #008080\">0.06152</span> │ <span style=\"color: #008080; text-decoration-color: #008080\"> 0.2635</span> │ <span style=\"color: #008080; text-decoration-color: #008080\">      0</span> │ <span style=\"color: #008080; text-decoration-color: #008080\">      0</span> │ <span style=\"color: #008080; text-decoration-color: #008080\">       0</span> │ <span style=\"color: #008080; text-decoration-color: #008080\">      0</span> │ <span style=\"color: #008080; text-decoration-color: #008080\">       2</span> │ <span style=\"color: #008000; text-decoration-color: #008000\">  ▇   </span> │  │\n",
       "│ │ <span style=\"color: #af87ff; text-decoration-color: #af87ff\">ction  </span> │         │       │         │         │         │         │          │         │          │        │  │\n",
       "│ │ <span style=\"color: #af87ff; text-decoration-color: #af87ff\">problem</span> │ <span style=\"color: #008080; text-decoration-color: #008080\">      0</span> │ <span style=\"color: #008080; text-decoration-color: #008080\">    0</span> │ <span style=\"color: #008080; text-decoration-color: #008080\">1415000</span> │ <span style=\"color: #008080; text-decoration-color: #008080\">2694000</span> │ <span style=\"color: #008080; text-decoration-color: #008080\">1368000</span> │ <span style=\"color: #008080; text-decoration-color: #008080\">1392000</span> │ <span style=\"color: #008080; text-decoration-color: #008080\">14150000</span> │ <span style=\"color: #008080; text-decoration-color: #008080\">1438000</span> │ <span style=\"color: #008080; text-decoration-color: #008080\">14620000</span> │ <span style=\"color: #008000; text-decoration-color: #008000\">▇▇▇▇▇▇</span> │  │\n",
       "│ │ <span style=\"color: #af87ff; text-decoration-color: #af87ff\">logid  </span> │         │       │ <span style=\"color: #008080; text-decoration-color: #008080\">     00</span> │         │ <span style=\"color: #008080; text-decoration-color: #008080\">     00</span> │ <span style=\"color: #008080; text-decoration-color: #008080\">     00</span> │ <span style=\"color: #008080; text-decoration-color: #008080\">       0</span> │ <span style=\"color: #008080; text-decoration-color: #008080\">     00</span> │ <span style=\"color: #008080; text-decoration-color: #008080\">       0</span> │        │  │\n",
       "│ │ <span style=\"color: #af87ff; text-decoration-color: #af87ff\">Average</span> │ <span style=\"color: #008080; text-decoration-color: #008080\">      0</span> │ <span style=\"color: #008080; text-decoration-color: #008080\">    0</span> │ <span style=\"color: #008080; text-decoration-color: #008080\"> 0.3895</span> │ <span style=\"color: #008080; text-decoration-color: #008080\"> 0.1028</span> │ <span style=\"color: #008080; text-decoration-color: #008080\"> 0.3613</span> │ <span style=\"color: #008080; text-decoration-color: #008080\"> 0.3613</span> │ <span style=\"color: #008080; text-decoration-color: #008080\">  0.3613</span> │ <span style=\"color: #008080; text-decoration-color: #008080\"> 0.3613</span> │ <span style=\"color: #008080; text-decoration-color: #008080\">  0.8671</span> │ <span style=\"color: #008000; text-decoration-color: #008000\">  ▇   </span> │  │\n",
       "│ │ <span style=\"color: #af87ff; text-decoration-color: #af87ff\">_confid</span> │         │       │         │         │         │         │          │         │          │        │  │\n",
       "│ │ <span style=\"color: #af87ff; text-decoration-color: #af87ff\">ence(FR</span> │         │       │         │         │         │         │          │         │          │        │  │\n",
       "│ │ <span style=\"color: #af87ff; text-decoration-color: #af87ff\">USTRATE</span> │         │       │         │         │         │         │          │         │          │        │  │\n",
       "│ │ <span style=\"color: #af87ff; text-decoration-color: #af87ff\">D)     </span> │         │       │         │         │         │         │          │         │          │        │  │\n",
       "│ │ <span style=\"color: #af87ff; text-decoration-color: #af87ff\">Average</span> │ <span style=\"color: #008080; text-decoration-color: #008080\">      0</span> │ <span style=\"color: #008080; text-decoration-color: #008080\">    0</span> │ <span style=\"color: #008080; text-decoration-color: #008080\">0.04479</span> │ <span style=\"color: #008080; text-decoration-color: #008080\"> 0.1925</span> │ <span style=\"color: #008080; text-decoration-color: #008080\">      0</span> │ <span style=\"color: #008080; text-decoration-color: #008080\">      0</span> │ <span style=\"color: #008080; text-decoration-color: #008080\">       0</span> │ <span style=\"color: #008080; text-decoration-color: #008080\">      0</span> │ <span style=\"color: #008080; text-decoration-color: #008080\">       1</span> │ <span style=\"color: #008000; text-decoration-color: #008000\">  ▇   </span> │  │\n",
       "│ │ <span style=\"color: #af87ff; text-decoration-color: #af87ff\">_confid</span> │         │       │         │         │         │         │          │         │          │        │  │\n",
       "│ │ <span style=\"color: #af87ff; text-decoration-color: #af87ff\">ence(CO</span> │         │       │         │         │         │         │          │         │          │        │  │\n",
       "│ │ <span style=\"color: #af87ff; text-decoration-color: #af87ff\">NFUSED)</span> │         │       │         │         │         │         │          │         │          │        │  │\n",
       "│ │ <span style=\"color: #af87ff; text-decoration-color: #af87ff\">Average</span> │ <span style=\"color: #008080; text-decoration-color: #008080\">      0</span> │ <span style=\"color: #008080; text-decoration-color: #008080\">    0</span> │ <span style=\"color: #008080; text-decoration-color: #008080\"> 0.6824</span> │ <span style=\"color: #008080; text-decoration-color: #008080\"> 0.1714</span> │ <span style=\"color: #008080; text-decoration-color: #008080\"> 0.1707</span> │ <span style=\"color: #008080; text-decoration-color: #008080\"> 0.7669</span> │ <span style=\"color: #008080; text-decoration-color: #008080\">  0.7669</span> │ <span style=\"color: #008080; text-decoration-color: #008080\"> 0.7669</span> │ <span style=\"color: #008080; text-decoration-color: #008080\">  0.7669</span> │ <span style=\"color: #008000; text-decoration-color: #008000\"> ▂   ▇</span> │  │\n",
       "│ │ <span style=\"color: #af87ff; text-decoration-color: #af87ff\">_confid</span> │         │       │         │         │         │         │          │         │          │        │  │\n",
       "│ │ <span style=\"color: #af87ff; text-decoration-color: #af87ff\">ence(CO</span> │         │       │         │         │         │         │          │         │          │        │  │\n",
       "│ │ <span style=\"color: #af87ff; text-decoration-color: #af87ff\">NCENTRA</span> │         │       │         │         │         │         │          │         │          │        │  │\n",
       "│ │ <span style=\"color: #af87ff; text-decoration-color: #af87ff\">TING)  </span> │         │       │         │         │         │         │          │         │          │        │  │\n",
       "│ │ <span style=\"color: #af87ff; text-decoration-color: #af87ff\">Average</span> │ <span style=\"color: #008080; text-decoration-color: #008080\">      0</span> │ <span style=\"color: #008080; text-decoration-color: #008080\">    0</span> │ <span style=\"color: #008080; text-decoration-color: #008080\"> 0.2568</span> │ <span style=\"color: #008080; text-decoration-color: #008080\"> 0.2862</span> │ <span style=\"color: #008080; text-decoration-color: #008080\">      0</span> │ <span style=\"color: #008080; text-decoration-color: #008080\">      0</span> │ <span style=\"color: #008080; text-decoration-color: #008080\">  0.2215</span> │ <span style=\"color: #008080; text-decoration-color: #008080\">  0.443</span> │ <span style=\"color: #008080; text-decoration-color: #008080\">       1</span> │ <span style=\"color: #008000; text-decoration-color: #008000\">▇▃▃ ▁▁</span> │  │\n",
       "│ │ <span style=\"color: #af87ff; text-decoration-color: #af87ff\">_confid</span> │         │       │         │         │         │         │          │         │          │        │  │\n",
       "│ │ <span style=\"color: #af87ff; text-decoration-color: #af87ff\">ence(BO</span> │         │       │         │         │         │         │          │         │          │        │  │\n",
       "│ │ <span style=\"color: #af87ff; text-decoration-color: #af87ff\">RED)   </span> │         │       │         │         │         │         │          │         │          │        │  │\n",
       "│ └─────────┴─────────┴───────┴─────────┴─────────┴─────────┴─────────┴──────────┴─────────┴──────────┴────────┘  │\n",
       "│ <span style=\"font-style: italic\">                                                    string                                                    </span>  │\n",
       "│ ┏━━━━━━━━━━━━━━━━━━━━━━━━━━┳━━━━━━━━━━━━━━━━┳━━━━━━━━━━━━━┳━━━━━━━━━━━━━━━━━━━━━━━━━━━┳━━━━━━━━━━━━━━━━━━━━━━┓  │\n",
       "│ ┃<span style=\"font-weight: bold\"> column_name              </span>┃<span style=\"font-weight: bold\"> NA             </span>┃<span style=\"font-weight: bold\"> NA %        </span>┃<span style=\"font-weight: bold\"> words per row             </span>┃<span style=\"font-weight: bold\"> total words          </span>┃  │\n",
       "│ ┡━━━━━━━━━━━━━━━━━━━━━━━━━━╇━━━━━━━━━━━━━━━━╇━━━━━━━━━━━━━╇━━━━━━━━━━━━━━━━━━━━━━━━━━━╇━━━━━━━━━━━━━━━━━━━━━━┩  │\n",
       "│ │ <span style=\"color: #af87ff; text-decoration-color: #af87ff\">skill                   </span> │ <span style=\"color: #008080; text-decoration-color: #008080\">       3493190</span> │ <span style=\"color: #008080; text-decoration-color: #008080\">      57.05</span> │ <span style=\"color: #008080; text-decoration-color: #008080\">                      1.6</span> │ <span style=\"color: #008080; text-decoration-color: #008080\">             9513027</span> │  │\n",
       "│ │ <span style=\"color: #af87ff; text-decoration-color: #af87ff\">start_time              </span> │ <span style=\"color: #008080; text-decoration-color: #008080\">             0</span> │ <span style=\"color: #008080; text-decoration-color: #008080\">          0</span> │ <span style=\"color: #008080; text-decoration-color: #008080\">                        2</span> │ <span style=\"color: #008080; text-decoration-color: #008080\">            12246540</span> │  │\n",
       "│ │ <span style=\"color: #af87ff; text-decoration-color: #af87ff\">end_time                </span> │ <span style=\"color: #008080; text-decoration-color: #008080\">             0</span> │ <span style=\"color: #008080; text-decoration-color: #008080\">          0</span> │ <span style=\"color: #008080; text-decoration-color: #008080\">                        2</span> │ <span style=\"color: #008080; text-decoration-color: #008080\">            12246540</span> │  │\n",
       "│ │ <span style=\"color: #af87ff; text-decoration-color: #af87ff\">problem_type            </span> │ <span style=\"color: #008080; text-decoration-color: #008080\">             0</span> │ <span style=\"color: #008080; text-decoration-color: #008080\">          0</span> │ <span style=\"color: #008080; text-decoration-color: #008080\">                        1</span> │ <span style=\"color: #008080; text-decoration-color: #008080\">             6123270</span> │  │\n",
       "│ │ <span style=\"color: #af87ff; text-decoration-color: #af87ff\">actions                 </span> │ <span style=\"color: #008080; text-decoration-color: #008080\">             0</span> │ <span style=\"color: #008080; text-decoration-color: #008080\">          0</span> │ <span style=\"color: #008080; text-decoration-color: #008080\">                       34</span> │ <span style=\"color: #008080; text-decoration-color: #008080\">           205918978</span> │  │\n",
       "│ │ <span style=\"color: #af87ff; text-decoration-color: #af87ff\">tutor_mode              </span> │ <span style=\"color: #008080; text-decoration-color: #008080\">             0</span> │ <span style=\"color: #008080; text-decoration-color: #008080\">          0</span> │ <span style=\"color: #008080; text-decoration-color: #008080\">                        1</span> │ <span style=\"color: #008080; text-decoration-color: #008080\">             6123270</span> │  │\n",
       "│ │ <span style=\"color: #af87ff; text-decoration-color: #af87ff\">type                    </span> │ <span style=\"color: #008080; text-decoration-color: #008080\">             0</span> │ <span style=\"color: #008080; text-decoration-color: #008080\">          0</span> │ <span style=\"color: #008080; text-decoration-color: #008080\">                        1</span> │ <span style=\"color: #008080; text-decoration-color: #008080\">             6123270</span> │  │\n",
       "│ │ <span style=\"color: #af87ff; text-decoration-color: #af87ff\">answer_text             </span> │ <span style=\"color: #008080; text-decoration-color: #008080\">        346338</span> │ <span style=\"color: #008080; text-decoration-color: #008080\">       5.66</span> │ <span style=\"color: #008080; text-decoration-color: #008080\">                      1.6</span> │ <span style=\"color: #008080; text-decoration-color: #008080\">             9559036</span> │  │\n",
       "│ └──────────────────────────┴────────────────┴─────────────┴───────────────────────────┴──────────────────────┘  │\n",
       "╰────────────────────────────────────────────────────── End ──────────────────────────────────────────────────────╯\n",
       "</pre>\n"
      ],
      "text/plain": [
       "╭──────────────────────────────────────────────── skimpy summary ─────────────────────────────────────────────────╮\n",
       "│ \u001b[3m         Data Summary          \u001b[0m \u001b[3m      Data Types       \u001b[0m                                                         │\n",
       "│ ┏━━━━━━━━━━━━━━━━━━━┳━━━━━━━━━┓ ┏━━━━━━━━━━━━━┳━━━━━━━┓                                                         │\n",
       "│ ┃\u001b[1;36m \u001b[0m\u001b[1;36mdataframe        \u001b[0m\u001b[1;36m \u001b[0m┃\u001b[1;36m \u001b[0m\u001b[1;36mValues \u001b[0m\u001b[1;36m \u001b[0m┃ ┃\u001b[1;36m \u001b[0m\u001b[1;36mColumn Type\u001b[0m\u001b[1;36m \u001b[0m┃\u001b[1;36m \u001b[0m\u001b[1;36mCount\u001b[0m\u001b[1;36m \u001b[0m┃                                                         │\n",
       "│ ┡━━━━━━━━━━━━━━━━━━━╇━━━━━━━━━┩ ┡━━━━━━━━━━━━━╇━━━━━━━┩                                                         │\n",
       "│ │ Number of rows    │ 6123270 │ │ int32       │ 18    │                                                         │\n",
       "│ │ Number of columns │ 35      │ │ float64     │ 9     │                                                         │\n",
       "│ └───────────────────┴─────────┘ │ string      │ 8     │                                                         │\n",
       "│                                 └─────────────┴───────┘                                                         │\n",
       "│ \u001b[3m                                                    number                                                    \u001b[0m  │\n",
       "│ ┏━━━━━━━━━┳━━━━━━━━━┳━━━━━━━┳━━━━━━━━━┳━━━━━━━━━┳━━━━━━━━━┳━━━━━━━━━┳━━━━━━━━━━┳━━━━━━━━━┳━━━━━━━━━━┳━━━━━━━━┓  │\n",
       "│ ┃\u001b[1m \u001b[0m\u001b[1mcolumn_\u001b[0m\u001b[1m \u001b[0m┃\u001b[1m         \u001b[0m┃\u001b[1m       \u001b[0m┃\u001b[1m         \u001b[0m┃\u001b[1m         \u001b[0m┃\u001b[1m         \u001b[0m┃\u001b[1m         \u001b[0m┃\u001b[1m          \u001b[0m┃\u001b[1m         \u001b[0m┃\u001b[1m          \u001b[0m┃\u001b[1m        \u001b[0m┃  │\n",
       "│ ┃\u001b[1m \u001b[0m\u001b[1mname   \u001b[0m\u001b[1m \u001b[0m┃\u001b[1m \u001b[0m\u001b[1mNA     \u001b[0m\u001b[1m \u001b[0m┃\u001b[1m \u001b[0m\u001b[1mNA % \u001b[0m\u001b[1m \u001b[0m┃\u001b[1m \u001b[0m\u001b[1mmean   \u001b[0m\u001b[1m \u001b[0m┃\u001b[1m \u001b[0m\u001b[1msd     \u001b[0m\u001b[1m \u001b[0m┃\u001b[1m \u001b[0m\u001b[1mp0     \u001b[0m\u001b[1m \u001b[0m┃\u001b[1m \u001b[0m\u001b[1mp25    \u001b[0m\u001b[1m \u001b[0m┃\u001b[1m \u001b[0m\u001b[1mp50     \u001b[0m\u001b[1m \u001b[0m┃\u001b[1m \u001b[0m\u001b[1mp75    \u001b[0m\u001b[1m \u001b[0m┃\u001b[1m \u001b[0m\u001b[1mp100    \u001b[0m\u001b[1m \u001b[0m┃\u001b[1m \u001b[0m\u001b[1mhist  \u001b[0m\u001b[1m \u001b[0m┃  │\n",
       "│ ┡━━━━━━━━━╇━━━━━━━━━╇━━━━━━━╇━━━━━━━━━╇━━━━━━━━━╇━━━━━━━━━╇━━━━━━━━━╇━━━━━━━━━━╇━━━━━━━━━╇━━━━━━━━━━╇━━━━━━━━┩  │\n",
       "│ │ \u001b[38;5;141mproblem\u001b[0m │ \u001b[36m      0\u001b[0m │ \u001b[36m    0\u001b[0m │ \u001b[36m1415000\u001b[0m │ \u001b[36m2694000\u001b[0m │ \u001b[36m1368000\u001b[0m │ \u001b[36m1392000\u001b[0m │ \u001b[36m14150000\u001b[0m │ \u001b[36m1438000\u001b[0m │ \u001b[36m14620000\u001b[0m │ \u001b[32m▇▇▇▇▇▇\u001b[0m │  │\n",
       "│ │ \u001b[38;5;141m_log_id\u001b[0m │         │       │ \u001b[36m     00\u001b[0m │         │ \u001b[36m     00\u001b[0m │ \u001b[36m     00\u001b[0m │ \u001b[36m       0\u001b[0m │ \u001b[36m     00\u001b[0m │ \u001b[36m       0\u001b[0m │        │  │\n",
       "│ │ \u001b[38;5;141mproblem\u001b[0m │ \u001b[36m      0\u001b[0m │ \u001b[36m    0\u001b[0m │ \u001b[36m 368600\u001b[0m │ \u001b[36m 219500\u001b[0m │ \u001b[36m      1\u001b[0m │ \u001b[36m 128400\u001b[0m │ \u001b[36m  416800\u001b[0m │ \u001b[36m 564400\u001b[0m │ \u001b[36m  767100\u001b[0m │ \u001b[32m▇▃▂▇▇▃\u001b[0m │  │\n",
       "│ │ \u001b[38;5;141m_id    \u001b[0m │         │       │         │         │         │         │          │         │          │        │  │\n",
       "│ │ \u001b[38;5;141muser_id\u001b[0m │ \u001b[36m      0\u001b[0m │ \u001b[36m    0\u001b[0m │ \u001b[36m 177000\u001b[0m │ \u001b[36m  31720\u001b[0m │ \u001b[36m  21420\u001b[0m │ \u001b[36m 172000\u001b[0m │ \u001b[36m  179200\u001b[0m │ \u001b[36m 197300\u001b[0m │ \u001b[36m  228200\u001b[0m │ \u001b[32m  ▁▁▇▃\u001b[0m │  │\n",
       "│ │ \u001b[38;5;141massignm\u001b[0m │ \u001b[36m      0\u001b[0m │ \u001b[36m    0\u001b[0m │ \u001b[36m 677300\u001b[0m │ \u001b[36m  94260\u001b[0m │ \u001b[36m 181500\u001b[0m │ \u001b[36m 586400\u001b[0m │ \u001b[36m  678600\u001b[0m │ \u001b[36m 767200\u001b[0m │ \u001b[36m  833100\u001b[0m │ \u001b[32m   ▇▆▇\u001b[0m │  │\n",
       "│ │ \u001b[38;5;141ment_id \u001b[0m │         │       │         │         │         │         │          │         │          │        │  │\n",
       "│ │ \u001b[38;5;141massistm\u001b[0m │ \u001b[36m      0\u001b[0m │ \u001b[36m    0\u001b[0m │ \u001b[36m 220300\u001b[0m │ \u001b[36m 139400\u001b[0m │ \u001b[36m      5\u001b[0m │ \u001b[36m  68840\u001b[0m │ \u001b[36m  239900\u001b[0m │ \u001b[36m 346700\u001b[0m │ \u001b[36m  492600\u001b[0m │ \u001b[32m▇▃▅▅▆▂\u001b[0m │  │\n",
       "│ │ \u001b[38;5;141ment_id \u001b[0m │         │       │         │         │         │         │          │         │          │        │  │\n",
       "│ │ \u001b[38;5;141morigina\u001b[0m │ \u001b[36m      0\u001b[0m │ \u001b[36m    0\u001b[0m │ \u001b[36m 0.9504\u001b[0m │ \u001b[36m 0.2171\u001b[0m │ \u001b[36m      0\u001b[0m │ \u001b[36m      1\u001b[0m │ \u001b[36m       1\u001b[0m │ \u001b[36m      1\u001b[0m │ \u001b[36m       1\u001b[0m │ \u001b[32m     ▇\u001b[0m │  │\n",
       "│ │ \u001b[38;5;141ml      \u001b[0m │         │       │         │         │         │         │          │         │          │        │  │\n",
       "│ │ \u001b[38;5;141mcorrect\u001b[0m │ \u001b[36m      0\u001b[0m │ \u001b[36m    0\u001b[0m │ \u001b[36m 0.6768\u001b[0m │ \u001b[36m 0.4675\u001b[0m │ \u001b[36m      0\u001b[0m │ \u001b[36m      0\u001b[0m │ \u001b[36m       1\u001b[0m │ \u001b[36m      1\u001b[0m │ \u001b[36m       1\u001b[0m │ \u001b[32m▃    ▇\u001b[0m │  │\n",
       "│ │ \u001b[38;5;141mbottom_\u001b[0m │ \u001b[36m  60348\u001b[0m │ \u001b[36m 0.99\u001b[0m │ \u001b[36m   0.12\u001b[0m │ \u001b[36m  0.325\u001b[0m │ \u001b[36m      0\u001b[0m │ \u001b[36m      0\u001b[0m │ \u001b[36m       0\u001b[0m │ \u001b[36m      0\u001b[0m │ \u001b[36m       1\u001b[0m │ \u001b[32m▇    ▁\u001b[0m │  │\n",
       "│ │ \u001b[38;5;141mhint   \u001b[0m │         │       │         │         │         │         │          │         │          │        │  │\n",
       "│ │ \u001b[38;5;141mhint_co\u001b[0m │ \u001b[36m      0\u001b[0m │ \u001b[36m    0\u001b[0m │ \u001b[36m 0.3373\u001b[0m │ \u001b[36m 0.9852\u001b[0m │ \u001b[36m      0\u001b[0m │ \u001b[36m      0\u001b[0m │ \u001b[36m       0\u001b[0m │ \u001b[36m      0\u001b[0m │ \u001b[36m      14\u001b[0m │ \u001b[32m  ▇   \u001b[0m │  │\n",
       "│ │ \u001b[38;5;141munt    \u001b[0m │         │       │         │         │         │         │          │         │          │        │  │\n",
       "│ │ \u001b[38;5;141mattempt\u001b[0m │ \u001b[36m      0\u001b[0m │ \u001b[36m    0\u001b[0m │ \u001b[36m  1.339\u001b[0m │ \u001b[36m  1.056\u001b[0m │ \u001b[36m      0\u001b[0m │ \u001b[36m      1\u001b[0m │ \u001b[36m       1\u001b[0m │ \u001b[36m      1\u001b[0m │ \u001b[36m      29\u001b[0m │ \u001b[32m  ▇   \u001b[0m │  │\n",
       "│ │ \u001b[38;5;141m_count \u001b[0m │         │       │         │         │         │         │          │         │          │        │  │\n",
       "│ │ \u001b[38;5;141mms_firs\u001b[0m │ \u001b[36m      0\u001b[0m │ \u001b[36m    0\u001b[0m │ \u001b[36m  48730\u001b[0m │ \u001b[36m 267400\u001b[0m │ \u001b[36m  -6767\u001b[0m │ \u001b[36m   9436\u001b[0m │ \u001b[36m   22330\u001b[0m │ \u001b[36m  54860\u001b[0m │ \u001b[36m34510000\u001b[0m │ \u001b[32m  ▇   \u001b[0m │  │\n",
       "│ │ \u001b[38;5;141mt_respo\u001b[0m │         │       │         │         │         │         │          │         │ \u001b[36m       0\u001b[0m │        │  │\n",
       "│ │ \u001b[38;5;141mnse    \u001b[0m │         │       │         │         │         │         │          │         │          │        │  │\n",
       "│ │ \u001b[38;5;141msequenc\u001b[0m │ \u001b[36m      0\u001b[0m │ \u001b[36m    0\u001b[0m │ \u001b[36m  66900\u001b[0m │ \u001b[36m  59330\u001b[0m │ \u001b[36m      2\u001b[0m │ \u001b[36m  12660\u001b[0m │ \u001b[36m   46140\u001b[0m │ \u001b[36m  99010\u001b[0m │ \u001b[36m  208500\u001b[0m │ \u001b[32m▇▇▂▂▂▂\u001b[0m │  │\n",
       "│ │ \u001b[38;5;141me_id   \u001b[0m │         │       │         │         │         │         │          │         │          │        │  │\n",
       "│ │ \u001b[38;5;141mstudent\u001b[0m │ \u001b[36m      0\u001b[0m │ \u001b[36m    0\u001b[0m │ \u001b[36m  23430\u001b[0m │ \u001b[36m   1612\u001b[0m │ \u001b[36m  11390\u001b[0m │ \u001b[36m  22520\u001b[0m │ \u001b[36m   23140\u001b[0m │ \u001b[36m  24600\u001b[0m │ \u001b[36m   27390\u001b[0m │ \u001b[32m   ▁▇▃\u001b[0m │  │\n",
       "│ │ \u001b[38;5;141m_class_\u001b[0m │         │       │         │         │         │         │          │         │          │        │  │\n",
       "│ │ \u001b[38;5;141mid     \u001b[0m │         │       │         │         │         │         │          │         │          │        │  │\n",
       "│ │ \u001b[38;5;141mpositio\u001b[0m │ \u001b[36m      0\u001b[0m │ \u001b[36m    0\u001b[0m │ \u001b[36m  74.03\u001b[0m │ \u001b[36m  369.7\u001b[0m │ \u001b[36m      0\u001b[0m │ \u001b[36m      4\u001b[0m │ \u001b[36m      12\u001b[0m │ \u001b[36m     38\u001b[0m │ \u001b[36m    8533\u001b[0m │ \u001b[32m  ▇   \u001b[0m │  │\n",
       "│ │ \u001b[38;5;141mn      \u001b[0m │         │       │         │         │         │         │          │         │          │        │  │\n",
       "│ │ \u001b[38;5;141mbase_se\u001b[0m │ \u001b[36m      0\u001b[0m │ \u001b[36m    0\u001b[0m │ \u001b[36m  62140\u001b[0m │ \u001b[36m  56870\u001b[0m │ \u001b[36m      2\u001b[0m │ \u001b[36m  11900\u001b[0m │ \u001b[36m   44930\u001b[0m │ \u001b[36m  87110\u001b[0m │ \u001b[36m  208500\u001b[0m │ \u001b[32m▇▇▂▁▁▂\u001b[0m │  │\n",
       "│ │ \u001b[38;5;141mquence_\u001b[0m │         │       │         │         │         │         │          │         │          │        │  │\n",
       "│ │ \u001b[38;5;141mid     \u001b[0m │         │       │         │         │         │         │          │         │          │        │  │\n",
       "│ │ \u001b[38;5;141mskill_i\u001b[0m │ \u001b[36m3411457\u001b[0m │ \u001b[36m55.71\u001b[0m │ \u001b[36m  193.3\u001b[0m │ \u001b[36m  130.3\u001b[0m │ \u001b[36m      1\u001b[0m │ \u001b[36m     65\u001b[0m │ \u001b[36m     277\u001b[0m │ \u001b[36m    310\u001b[0m │ \u001b[36m    1641\u001b[0m │ \u001b[32m  ▇▇  \u001b[0m │  │\n",
       "│ │ \u001b[38;5;141md      \u001b[0m │         │       │         │         │         │         │          │         │          │        │  │\n",
       "│ │ \u001b[38;5;141mteacher\u001b[0m │ \u001b[36m      0\u001b[0m │ \u001b[36m    0\u001b[0m │ \u001b[36m 121000\u001b[0m │ \u001b[36m  49790\u001b[0m │ \u001b[36m  11440\u001b[0m │ \u001b[36m  73060\u001b[0m │ \u001b[36m  128500\u001b[0m │ \u001b[36m 156300\u001b[0m │ \u001b[36m  220500\u001b[0m │ \u001b[32m▂▆▅▇▆▃\u001b[0m │  │\n",
       "│ │ \u001b[38;5;141m_id    \u001b[0m │         │       │         │         │         │         │          │         │          │        │  │\n",
       "│ │ \u001b[38;5;141mschool_\u001b[0m │ \u001b[36m    157\u001b[0m │ \u001b[36m    0\u001b[0m │ \u001b[36m   6925\u001b[0m │ \u001b[36m   3314\u001b[0m │ \u001b[36m      1\u001b[0m │ \u001b[36m   5260\u001b[0m │ \u001b[36m    5978\u001b[0m │ \u001b[36m   9394\u001b[0m │ \u001b[36m   12430\u001b[0m │ \u001b[32m▂▁▇▃▂▅\u001b[0m │  │\n",
       "│ │ \u001b[38;5;141mid     \u001b[0m │         │       │         │         │         │         │          │         │          │        │  │\n",
       "│ │ \u001b[38;5;141moverlap\u001b[0m │ \u001b[36m      0\u001b[0m │ \u001b[36m    0\u001b[0m │ \u001b[36m  49070\u001b[0m │ \u001b[36m 288500\u001b[0m │ \u001b[36m  -6767\u001b[0m │ \u001b[36m   9468\u001b[0m │ \u001b[36m   22420\u001b[0m │ \u001b[36m  55050\u001b[0m │ \u001b[36m34530000\u001b[0m │ \u001b[32m  ▇   \u001b[0m │  │\n",
       "│ │ \u001b[38;5;141m_time  \u001b[0m │         │       │         │         │         │         │          │         │ \u001b[36m       0\u001b[0m │        │  │\n",
       "│ │ \u001b[38;5;141mtemplat\u001b[0m │ \u001b[36m      0\u001b[0m │ \u001b[36m    0\u001b[0m │ \u001b[36m 208900\u001b[0m │ \u001b[36m 145800\u001b[0m │ \u001b[36m      5\u001b[0m │ \u001b[36m  52590\u001b[0m │ \u001b[36m  239500\u001b[0m │ \u001b[36m 343500\u001b[0m │ \u001b[36m  492600\u001b[0m │ \u001b[32m▇▂▃▃▅▂\u001b[0m │  │\n",
       "│ │ \u001b[38;5;141me_id   \u001b[0m │         │       │         │         │         │         │          │         │          │        │  │\n",
       "│ │ \u001b[38;5;141manswer_\u001b[0m │ \u001b[36m6114995\u001b[0m │ \u001b[36m99.86\u001b[0m │ \u001b[36m 432500\u001b[0m │ \u001b[36m 353500\u001b[0m │ \u001b[36m      1\u001b[0m │ \u001b[36m 106000\u001b[0m │ \u001b[36m  344300\u001b[0m │ \u001b[36m 738600\u001b[0m │ \u001b[36m 1185000\u001b[0m │ \u001b[32m▇▃▃▂▃▁\u001b[0m │  │\n",
       "│ │ \u001b[38;5;141mid     \u001b[0m │         │       │         │         │         │         │          │         │          │        │  │\n",
       "│ │ \u001b[38;5;141mfirst_a\u001b[0m │ \u001b[36m      0\u001b[0m │ \u001b[36m    0\u001b[0m │ \u001b[36m0.06152\u001b[0m │ \u001b[36m 0.2635\u001b[0m │ \u001b[36m      0\u001b[0m │ \u001b[36m      0\u001b[0m │ \u001b[36m       0\u001b[0m │ \u001b[36m      0\u001b[0m │ \u001b[36m       2\u001b[0m │ \u001b[32m  ▇   \u001b[0m │  │\n",
       "│ │ \u001b[38;5;141mction  \u001b[0m │         │       │         │         │         │         │          │         │          │        │  │\n",
       "│ │ \u001b[38;5;141mproblem\u001b[0m │ \u001b[36m      0\u001b[0m │ \u001b[36m    0\u001b[0m │ \u001b[36m1415000\u001b[0m │ \u001b[36m2694000\u001b[0m │ \u001b[36m1368000\u001b[0m │ \u001b[36m1392000\u001b[0m │ \u001b[36m14150000\u001b[0m │ \u001b[36m1438000\u001b[0m │ \u001b[36m14620000\u001b[0m │ \u001b[32m▇▇▇▇▇▇\u001b[0m │  │\n",
       "│ │ \u001b[38;5;141mlogid  \u001b[0m │         │       │ \u001b[36m     00\u001b[0m │         │ \u001b[36m     00\u001b[0m │ \u001b[36m     00\u001b[0m │ \u001b[36m       0\u001b[0m │ \u001b[36m     00\u001b[0m │ \u001b[36m       0\u001b[0m │        │  │\n",
       "│ │ \u001b[38;5;141mAverage\u001b[0m │ \u001b[36m      0\u001b[0m │ \u001b[36m    0\u001b[0m │ \u001b[36m 0.3895\u001b[0m │ \u001b[36m 0.1028\u001b[0m │ \u001b[36m 0.3613\u001b[0m │ \u001b[36m 0.3613\u001b[0m │ \u001b[36m  0.3613\u001b[0m │ \u001b[36m 0.3613\u001b[0m │ \u001b[36m  0.8671\u001b[0m │ \u001b[32m  ▇   \u001b[0m │  │\n",
       "│ │ \u001b[38;5;141m_confid\u001b[0m │         │       │         │         │         │         │          │         │          │        │  │\n",
       "│ │ \u001b[38;5;141mence(FR\u001b[0m │         │       │         │         │         │         │          │         │          │        │  │\n",
       "│ │ \u001b[38;5;141mUSTRATE\u001b[0m │         │       │         │         │         │         │          │         │          │        │  │\n",
       "│ │ \u001b[38;5;141mD)     \u001b[0m │         │       │         │         │         │         │          │         │          │        │  │\n",
       "│ │ \u001b[38;5;141mAverage\u001b[0m │ \u001b[36m      0\u001b[0m │ \u001b[36m    0\u001b[0m │ \u001b[36m0.04479\u001b[0m │ \u001b[36m 0.1925\u001b[0m │ \u001b[36m      0\u001b[0m │ \u001b[36m      0\u001b[0m │ \u001b[36m       0\u001b[0m │ \u001b[36m      0\u001b[0m │ \u001b[36m       1\u001b[0m │ \u001b[32m  ▇   \u001b[0m │  │\n",
       "│ │ \u001b[38;5;141m_confid\u001b[0m │         │       │         │         │         │         │          │         │          │        │  │\n",
       "│ │ \u001b[38;5;141mence(CO\u001b[0m │         │       │         │         │         │         │          │         │          │        │  │\n",
       "│ │ \u001b[38;5;141mNFUSED)\u001b[0m │         │       │         │         │         │         │          │         │          │        │  │\n",
       "│ │ \u001b[38;5;141mAverage\u001b[0m │ \u001b[36m      0\u001b[0m │ \u001b[36m    0\u001b[0m │ \u001b[36m 0.6824\u001b[0m │ \u001b[36m 0.1714\u001b[0m │ \u001b[36m 0.1707\u001b[0m │ \u001b[36m 0.7669\u001b[0m │ \u001b[36m  0.7669\u001b[0m │ \u001b[36m 0.7669\u001b[0m │ \u001b[36m  0.7669\u001b[0m │ \u001b[32m ▂   ▇\u001b[0m │  │\n",
       "│ │ \u001b[38;5;141m_confid\u001b[0m │         │       │         │         │         │         │          │         │          │        │  │\n",
       "│ │ \u001b[38;5;141mence(CO\u001b[0m │         │       │         │         │         │         │          │         │          │        │  │\n",
       "│ │ \u001b[38;5;141mNCENTRA\u001b[0m │         │       │         │         │         │         │          │         │          │        │  │\n",
       "│ │ \u001b[38;5;141mTING)  \u001b[0m │         │       │         │         │         │         │          │         │          │        │  │\n",
       "│ │ \u001b[38;5;141mAverage\u001b[0m │ \u001b[36m      0\u001b[0m │ \u001b[36m    0\u001b[0m │ \u001b[36m 0.2568\u001b[0m │ \u001b[36m 0.2862\u001b[0m │ \u001b[36m      0\u001b[0m │ \u001b[36m      0\u001b[0m │ \u001b[36m  0.2215\u001b[0m │ \u001b[36m  0.443\u001b[0m │ \u001b[36m       1\u001b[0m │ \u001b[32m▇▃▃ ▁▁\u001b[0m │  │\n",
       "│ │ \u001b[38;5;141m_confid\u001b[0m │         │       │         │         │         │         │          │         │          │        │  │\n",
       "│ │ \u001b[38;5;141mence(BO\u001b[0m │         │       │         │         │         │         │          │         │          │        │  │\n",
       "│ │ \u001b[38;5;141mRED)   \u001b[0m │         │       │         │         │         │         │          │         │          │        │  │\n",
       "│ └─────────┴─────────┴───────┴─────────┴─────────┴─────────┴─────────┴──────────┴─────────┴──────────┴────────┘  │\n",
       "│ \u001b[3m                                                    string                                                    \u001b[0m  │\n",
       "│ ┏━━━━━━━━━━━━━━━━━━━━━━━━━━┳━━━━━━━━━━━━━━━━┳━━━━━━━━━━━━━┳━━━━━━━━━━━━━━━━━━━━━━━━━━━┳━━━━━━━━━━━━━━━━━━━━━━┓  │\n",
       "│ ┃\u001b[1m \u001b[0m\u001b[1mcolumn_name             \u001b[0m\u001b[1m \u001b[0m┃\u001b[1m \u001b[0m\u001b[1mNA            \u001b[0m\u001b[1m \u001b[0m┃\u001b[1m \u001b[0m\u001b[1mNA %       \u001b[0m\u001b[1m \u001b[0m┃\u001b[1m \u001b[0m\u001b[1mwords per row            \u001b[0m\u001b[1m \u001b[0m┃\u001b[1m \u001b[0m\u001b[1mtotal words         \u001b[0m\u001b[1m \u001b[0m┃  │\n",
       "│ ┡━━━━━━━━━━━━━━━━━━━━━━━━━━╇━━━━━━━━━━━━━━━━╇━━━━━━━━━━━━━╇━━━━━━━━━━━━━━━━━━━━━━━━━━━╇━━━━━━━━━━━━━━━━━━━━━━┩  │\n",
       "│ │ \u001b[38;5;141mskill                   \u001b[0m │ \u001b[36m       3493190\u001b[0m │ \u001b[36m      57.05\u001b[0m │ \u001b[36m                      1.6\u001b[0m │ \u001b[36m             9513027\u001b[0m │  │\n",
       "│ │ \u001b[38;5;141mstart_time              \u001b[0m │ \u001b[36m             0\u001b[0m │ \u001b[36m          0\u001b[0m │ \u001b[36m                        2\u001b[0m │ \u001b[36m            12246540\u001b[0m │  │\n",
       "│ │ \u001b[38;5;141mend_time                \u001b[0m │ \u001b[36m             0\u001b[0m │ \u001b[36m          0\u001b[0m │ \u001b[36m                        2\u001b[0m │ \u001b[36m            12246540\u001b[0m │  │\n",
       "│ │ \u001b[38;5;141mproblem_type            \u001b[0m │ \u001b[36m             0\u001b[0m │ \u001b[36m          0\u001b[0m │ \u001b[36m                        1\u001b[0m │ \u001b[36m             6123270\u001b[0m │  │\n",
       "│ │ \u001b[38;5;141mactions                 \u001b[0m │ \u001b[36m             0\u001b[0m │ \u001b[36m          0\u001b[0m │ \u001b[36m                       34\u001b[0m │ \u001b[36m           205918978\u001b[0m │  │\n",
       "│ │ \u001b[38;5;141mtutor_mode              \u001b[0m │ \u001b[36m             0\u001b[0m │ \u001b[36m          0\u001b[0m │ \u001b[36m                        1\u001b[0m │ \u001b[36m             6123270\u001b[0m │  │\n",
       "│ │ \u001b[38;5;141mtype                    \u001b[0m │ \u001b[36m             0\u001b[0m │ \u001b[36m          0\u001b[0m │ \u001b[36m                        1\u001b[0m │ \u001b[36m             6123270\u001b[0m │  │\n",
       "│ │ \u001b[38;5;141manswer_text             \u001b[0m │ \u001b[36m        346338\u001b[0m │ \u001b[36m       5.66\u001b[0m │ \u001b[36m                      1.6\u001b[0m │ \u001b[36m             9559036\u001b[0m │  │\n",
       "│ └──────────────────────────┴────────────────┴─────────────┴───────────────────────────┴──────────────────────┘  │\n",
       "╰────────────────────────────────────────────────────── End ──────────────────────────────────────────────────────╯\n"
      ]
     },
     "metadata": {},
     "output_type": "display_data"
    }
   ],
   "source": [
    "skim(df)"
   ]
  },
  {
   "cell_type": "code",
   "execution_count": 29,
   "metadata": {},
   "outputs": [
    {
     "data": {
      "text/plain": [
       "'--- \\n- - start\\n  - 1355364055251\\n  - \"697389\"\\n- - answer\\n  - 12522\\n  - true\\n  - \"1024\"\\n  - \\n- - end\\n'"
      ]
     },
     "execution_count": 29,
     "metadata": {},
     "output_type": "execute_result"
    }
   ],
   "source": [
    "df.iloc[5]['actions']"
   ]
  },
  {
   "cell_type": "code",
   "execution_count": 17,
   "metadata": {},
   "outputs": [
    {
     "data": {
      "text/plain": [
       "Index(['problem_log_id', 'skill', 'problem_id', 'user_id', 'assignment_id',\n",
       "       'assistment_id', 'start_time', 'end_time', 'problem_type', 'original',\n",
       "       'correct', 'bottom_hint', 'hint_count', 'actions', 'attempt_count',\n",
       "       'ms_first_response', 'tutor_mode', 'sequence_id', 'student_class_id',\n",
       "       'position', 'type', 'base_sequence_id', 'skill_id', 'teacher_id',\n",
       "       'school_id', 'overlap_time', 'template_id', 'answer_id', 'answer_text',\n",
       "       'first_action', 'problemlogid', 'Average_confidence(FRUSTRATED)',\n",
       "       'Average_confidence(CONFUSED)', 'Average_confidence(CONCENTRATING)',\n",
       "       'Average_confidence(BORED)'],\n",
       "      dtype='object')"
      ]
     },
     "execution_count": 17,
     "metadata": {},
     "output_type": "execute_result"
    }
   ],
   "source": [
    "df.columns"
   ]
  },
  {
   "cell_type": "code",
   "execution_count": 36,
   "metadata": {},
   "outputs": [
    {
     "data": {
      "text/plain": [
       "0           4\n",
       "1           5\n",
       "2          58\n",
       "3          21\n",
       "4           3\n",
       "           ..\n",
       "6123265     1\n",
       "6123266     1\n",
       "6123267     1\n",
       "6123268     1\n",
       "6123269     1\n",
       "Name: position, Length: 6123270, dtype: int64"
      ]
     },
     "execution_count": 36,
     "metadata": {},
     "output_type": "execute_result"
    }
   ],
   "source": [
    "df['position']"
   ]
  },
  {
   "cell_type": "code",
   "execution_count": 37,
   "metadata": {},
   "outputs": [],
   "source": [
    "# remove features witht high number of missing values\n",
    "columns = ['student_class_id', 'user_id', 'problem_log_id', 'problem_id', 'assignment_id', 'actions', \\\n",
    "        'Average_confidence(FRUSTRATED)',\n",
    "       'Average_confidence(CONFUSED)', 'Average_confidence(CONCENTRATING)',\n",
    "       'Average_confidence(BORED)', 'problemlogid', 'skill', 'assistment_id', 'student_class_id', \n",
    "       'position', 'base_sequence_id', 'skill_id', 'teacher_id', 'template_id', 'answer_id',\n",
    "       'school_id']"
   ]
  },
  {
   "cell_type": "code",
   "execution_count": 38,
   "metadata": {},
   "outputs": [],
   "source": [
    "df = df.drop(columns, axis='columns')"
   ]
  },
  {
   "cell_type": "code",
   "execution_count": 39,
   "metadata": {},
   "outputs": [
    {
     "data": {
      "text/plain": [
       "Index(['start_time', 'end_time', 'problem_type', 'original', 'correct',\n",
       "       'bottom_hint', 'hint_count', 'attempt_count', 'ms_first_response',\n",
       "       'tutor_mode', 'sequence_id', 'type', 'overlap_time', 'answer_text',\n",
       "       'first_action'],\n",
       "      dtype='object')"
      ]
     },
     "execution_count": 39,
     "metadata": {},
     "output_type": "execute_result"
    }
   ],
   "source": [
    "df.columns"
   ]
  },
  {
   "cell_type": "code",
   "execution_count": 40,
   "metadata": {},
   "outputs": [
    {
     "data": {
      "text/plain": [
       "(6123270, 15)"
      ]
     },
     "execution_count": 40,
     "metadata": {},
     "output_type": "execute_result"
    }
   ],
   "source": [
    "df.shape"
   ]
  },
  {
   "cell_type": "code",
   "execution_count": 5,
   "metadata": {},
   "outputs": [],
   "source": [
    "def prepare_assistments12(min_interactions_per_user, remove_nan_skills, verbose):\n",
    "\t\"\"\"Preprocess ASSISTments 2012-2013 dataset.\n",
    "\n",
    "\tArguments:\n",
    "\tmin_interactions_per_user -- minimum number of interactions per student\n",
    "\tremove_nan_skills -- if True, remove interactions with no skill tag\n",
    "\n",
    "\tOutputs:\n",
    "\tdf -- preprocessed ASSISTments dataset (pandas DataFrame)\n",
    "\tQ_mat -- corresponding q-matrix (item-skill relationships sparse array)\n",
    "\t\"\"\"\n",
    "\tdf = pd.read_csv(file_path)\n",
    "\tif verbose:\n",
    "\t\tinitial_shape = df.shape[0]\n",
    "\t\tprint(\"Opened ASSISTments 2012 data. Output: {} samples.\".format(initial_shape))\n",
    "\t\n",
    "\tdf[\"timestamp\"] = df[\"start_time\"]\n",
    "\tdf[\"timestamp\"] = pd.to_datetime(df[\"timestamp\"], format='mixed', dayfirst=True)\n",
    "\tdf[\"timestamp\"] = df[\"timestamp\"] - df[\"timestamp\"].min()\n",
    "\tdf[\"timestamp\"] = df[\"timestamp\"].apply(lambda x: x.total_seconds()).astype(np.int64)\n",
    "\t#df.sort_values(by=\"timestamp\", inplace=True)\n",
    "\t#df.reset_index(inplace=True, drop=True)\n",
    "\tif remove_nan_skills:\n",
    "\t\tdf = df[~df[\"skill_id\"].isnull()]\n",
    "\t\tif verbose:\n",
    "\t\t\tprint(\"Removed {} samples with NaN skills.\".format(df.shape[0]-initial_shape))\n",
    "\t\t\tinitial_shape = df.shape[0]\n",
    "\telse:\n",
    "\t\tdf.loc[df[\"skill_id\"].isnull(), \"skill_id\"] = -1\n",
    "\n",
    "\tdf = df[df.correct.isin([0,1])] # Remove potential continuous outcomes\n",
    "\tif verbose:\n",
    "\t\tprint(\"Removed {} samples with non-binary outcomes.\".format(df.shape[0]-initial_shape))\n",
    "\t\tinitial_shape = df.shape[0]\n",
    "\tdf['correct'] = df['correct'].astype(np.int32) # Cast outcome as int32\n",
    "\n",
    "\tdf = df.groupby(\"user_id\").filter(lambda x: len(x) >= min_interactions_per_user)\n",
    "\tif verbose:\n",
    "\t\tprint(f'Removed {df.shape[0]-initial_shape} samples (users with less than {min_interactions_per_user} interactions)')\n",
    "\t\tinitial_shape = df.shape[0]\n",
    "\n",
    "\tdf[\"user_id\"] = np.unique(df[\"user_id\"], return_inverse=True)[1]\n",
    "\tdf[\"item_id\"] = np.unique(df[\"problem_id\"], return_inverse=True)[1]\n",
    "\tdf[\"skill_id\"] = np.unique(df[\"skill_id\"], return_inverse=True)[1]\n",
    "\t\n",
    "\t#df.reset_index(inplace=True, drop=True) # Add unique identifier of the row\n",
    "\t#df[\"inter_id\"] = df.index\n",
    "\n",
    "\t# Build Q-matrix\n",
    "\tQ_mat = np.zeros((df[\"item_id\"].nunique(), df[\"skill_id\"].nunique()))\n",
    "\titem_skill = np.array(df[[\"item_id\", \"skill_id\"]])\n",
    "\tfor i in range(len(item_skill)):\n",
    "\t\tQ_mat[item_skill[i,0],item_skill[i,1]] = 1\n",
    "\tif verbose:\n",
    "\t\tprint(\"Computed q-matrix. Shape: {}.\".format(Q_mat.shape))\n",
    "\n",
    "\t#df = df[['user_id', 'item_id', 'timestamp', 'correct', \"inter_id\"]]\n",
    "\tdf = df[['user_id', 'item_id', 'timestamp', 'correct']]\n",
    "\t# Remove potential duplicates\n",
    "\tdf.drop_duplicates(inplace=True)\n",
    "\tif verbose:\n",
    "\t\tprint(\"Removed {} duplicated samples.\".format(df.shape[0] - initial_shape))\n",
    "\t\tinitial_shape = df.shape[0]\n",
    "\n",
    "\tdf.sort_values(by=\"timestamp\", inplace=True)\n",
    "\tdf.reset_index(inplace=True, drop=True)\n",
    "\tprint(\"Data preprocessing done. Final output: {} samples.\".format((df.shape[0])))\n",
    "\t# Save data\n",
    "\tsparse.save_npz(\"data/assistments12/q_mat.npz\", sparse.csr_matrix(Q_mat))\n",
    "\tdf.to_csv(\"data/assistments12/preprocessed_data.csv\", index=False)\n",
    "\n",
    "\twith open('data/assistments12/config.json', 'w') as f:\n",
    "\t\tf.write(json.dumps({\n",
    "\t\t\t'n_users': df.user_id.nunique(),\n",
    "\t\t\t'n_items': df.item_id.nunique(),\n",
    "\t\t\t'n_skills': Q_mat.shape[1]\n",
    "\t\t\t}, indent=4))\n",
    "\n",
    "\treturn df, Q_mat"
   ]
  },
  {
   "cell_type": "code",
   "execution_count": 13,
   "metadata": {},
   "outputs": [
    {
     "data": {
      "text/plain": [
       "'2012-09-03 14:18:36.278543'"
      ]
     },
     "execution_count": 13,
     "metadata": {},
     "output_type": "execute_result"
    }
   ],
   "source": [
    "df.iloc[696]['start_time']"
   ]
  },
  {
   "cell_type": "code",
   "execution_count": 6,
   "metadata": {},
   "outputs": [
    {
     "name": "stdout",
     "output_type": "stream",
     "text": [
      "Opened ASSISTments 2012 data. Output: 6123270 samples.\n",
      "Removed -3411457 samples with NaN skills.\n",
      "Removed -211 samples with non-binary outcomes.\n",
      "Removed -29391 samples (users with less than 10 interactions)\n",
      "Computed q-matrix. Shape: (52850, 265).\n",
      "Removed 0 duplicated samples.\n",
      "Data preprocessing done. Final output: 2682211 samples.\n"
     ]
    },
    {
     "ename": "FileNotFoundError",
     "evalue": "[Errno 2] No such file or directory: 'data/assistments12/q_mat.npz'",
     "output_type": "error",
     "traceback": [
      "\u001b[1;31m---------------------------------------------------------------------------\u001b[0m",
      "\u001b[1;31mFileNotFoundError\u001b[0m                         Traceback (most recent call last)",
      "Cell \u001b[1;32mIn[6], line 1\u001b[0m\n\u001b[1;32m----> 1\u001b[0m df, Q_mat \u001b[38;5;241m=\u001b[39m \u001b[43mprepare_assistments12\u001b[49m\u001b[43m(\u001b[49m\u001b[43mmin_interactions_per_user\u001b[49m\u001b[38;5;241;43m=\u001b[39;49m\u001b[38;5;241;43m10\u001b[39;49m\u001b[43m,\u001b[49m\n\u001b[0;32m      2\u001b[0m \u001b[43m\t\t\t\t\t\t\t\t\t\t  \u001b[49m\u001b[43mremove_nan_skills\u001b[49m\u001b[38;5;241;43m=\u001b[39;49m\u001b[38;5;28;43;01mTrue\u001b[39;49;00m\u001b[43m,\u001b[49m\n\u001b[0;32m      3\u001b[0m \u001b[43m\t\t\t\t\t\t\t\t\t\t  \u001b[49m\u001b[43mverbose\u001b[49m\u001b[38;5;241;43m=\u001b[39;49m\u001b[38;5;28;43;01mTrue\u001b[39;49;00m\u001b[43m)\u001b[49m\n",
      "Cell \u001b[1;32mIn[5], line 69\u001b[0m, in \u001b[0;36mprepare_assistments12\u001b[1;34m(min_interactions_per_user, remove_nan_skills, verbose)\u001b[0m\n\u001b[0;32m     67\u001b[0m \u001b[38;5;28mprint\u001b[39m(\u001b[38;5;124m\"\u001b[39m\u001b[38;5;124mData preprocessing done. Final output: \u001b[39m\u001b[38;5;132;01m{}\u001b[39;00m\u001b[38;5;124m samples.\u001b[39m\u001b[38;5;124m\"\u001b[39m\u001b[38;5;241m.\u001b[39mformat((df\u001b[38;5;241m.\u001b[39mshape[\u001b[38;5;241m0\u001b[39m])))\n\u001b[0;32m     68\u001b[0m \u001b[38;5;66;03m# Save data\u001b[39;00m\n\u001b[1;32m---> 69\u001b[0m \u001b[43msparse\u001b[49m\u001b[38;5;241;43m.\u001b[39;49m\u001b[43msave_npz\u001b[49m\u001b[43m(\u001b[49m\u001b[38;5;124;43m\"\u001b[39;49m\u001b[38;5;124;43mdata/assistments12/q_mat.npz\u001b[39;49m\u001b[38;5;124;43m\"\u001b[39;49m\u001b[43m,\u001b[49m\u001b[43m \u001b[49m\u001b[43msparse\u001b[49m\u001b[38;5;241;43m.\u001b[39;49m\u001b[43mcsr_matrix\u001b[49m\u001b[43m(\u001b[49m\u001b[43mQ_mat\u001b[49m\u001b[43m)\u001b[49m\u001b[43m)\u001b[49m\n\u001b[0;32m     70\u001b[0m df\u001b[38;5;241m.\u001b[39mto_csv(\u001b[38;5;124m\"\u001b[39m\u001b[38;5;124mdata/assistments12/preprocessed_data.csv\u001b[39m\u001b[38;5;124m\"\u001b[39m, index\u001b[38;5;241m=\u001b[39m\u001b[38;5;28;01mFalse\u001b[39;00m)\n\u001b[0;32m     72\u001b[0m \u001b[38;5;28;01mwith\u001b[39;00m \u001b[38;5;28mopen\u001b[39m(\u001b[38;5;124m'\u001b[39m\u001b[38;5;124mdata/assistments12/config.json\u001b[39m\u001b[38;5;124m'\u001b[39m, \u001b[38;5;124m'\u001b[39m\u001b[38;5;124mw\u001b[39m\u001b[38;5;124m'\u001b[39m) \u001b[38;5;28;01mas\u001b[39;00m f:\n",
      "File \u001b[1;32mc:\\Users\\pcteste1\\anaconda3\\envs\\cv-book\\lib\\site-packages\\scipy\\sparse\\_matrix_io.py:71\u001b[0m, in \u001b[0;36msave_npz\u001b[1;34m(file, matrix, compressed)\u001b[0m\n\u001b[0;32m     65\u001b[0m arrays_dict\u001b[38;5;241m.\u001b[39mupdate(\n\u001b[0;32m     66\u001b[0m     \u001b[38;5;28mformat\u001b[39m\u001b[38;5;241m=\u001b[39mmatrix\u001b[38;5;241m.\u001b[39mformat\u001b[38;5;241m.\u001b[39mencode(\u001b[38;5;124m'\u001b[39m\u001b[38;5;124mascii\u001b[39m\u001b[38;5;124m'\u001b[39m),\n\u001b[0;32m     67\u001b[0m     shape\u001b[38;5;241m=\u001b[39mmatrix\u001b[38;5;241m.\u001b[39mshape,\n\u001b[0;32m     68\u001b[0m     data\u001b[38;5;241m=\u001b[39mmatrix\u001b[38;5;241m.\u001b[39mdata\n\u001b[0;32m     69\u001b[0m )\n\u001b[0;32m     70\u001b[0m \u001b[38;5;28;01mif\u001b[39;00m compressed:\n\u001b[1;32m---> 71\u001b[0m     np\u001b[38;5;241m.\u001b[39msavez_compressed(file, \u001b[38;5;241m*\u001b[39m\u001b[38;5;241m*\u001b[39marrays_dict)\n\u001b[0;32m     72\u001b[0m \u001b[38;5;28;01melse\u001b[39;00m:\n\u001b[0;32m     73\u001b[0m     np\u001b[38;5;241m.\u001b[39msavez(file, \u001b[38;5;241m*\u001b[39m\u001b[38;5;241m*\u001b[39marrays_dict)\n",
      "File \u001b[1;32mc:\\Users\\pcteste1\\anaconda3\\envs\\cv-book\\lib\\site-packages\\numpy\\lib\\npyio.py:710\u001b[0m, in \u001b[0;36msavez_compressed\u001b[1;34m(file, *args, **kwds)\u001b[0m\n\u001b[0;32m    647\u001b[0m \u001b[38;5;129m@array_function_dispatch\u001b[39m(_savez_compressed_dispatcher)\n\u001b[0;32m    648\u001b[0m \u001b[38;5;28;01mdef\u001b[39;00m \u001b[38;5;21msavez_compressed\u001b[39m(file, \u001b[38;5;241m*\u001b[39margs, \u001b[38;5;241m*\u001b[39m\u001b[38;5;241m*\u001b[39mkwds):\n\u001b[0;32m    649\u001b[0m \u001b[38;5;250m    \u001b[39m\u001b[38;5;124;03m\"\"\"\u001b[39;00m\n\u001b[0;32m    650\u001b[0m \u001b[38;5;124;03m    Save several arrays into a single file in compressed ``.npz`` format.\u001b[39;00m\n\u001b[0;32m    651\u001b[0m \n\u001b[1;32m   (...)\u001b[0m\n\u001b[0;32m    708\u001b[0m \n\u001b[0;32m    709\u001b[0m \u001b[38;5;124;03m    \"\"\"\u001b[39;00m\n\u001b[1;32m--> 710\u001b[0m     \u001b[43m_savez\u001b[49m\u001b[43m(\u001b[49m\u001b[43mfile\u001b[49m\u001b[43m,\u001b[49m\u001b[43m \u001b[49m\u001b[43margs\u001b[49m\u001b[43m,\u001b[49m\u001b[43m \u001b[49m\u001b[43mkwds\u001b[49m\u001b[43m,\u001b[49m\u001b[43m \u001b[49m\u001b[38;5;28;43;01mTrue\u001b[39;49;00m\u001b[43m)\u001b[49m\n",
      "File \u001b[1;32mc:\\Users\\pcteste1\\anaconda3\\envs\\cv-book\\lib\\site-packages\\numpy\\lib\\npyio.py:736\u001b[0m, in \u001b[0;36m_savez\u001b[1;34m(file, args, kwds, compress, allow_pickle, pickle_kwargs)\u001b[0m\n\u001b[0;32m    733\u001b[0m \u001b[38;5;28;01melse\u001b[39;00m:\n\u001b[0;32m    734\u001b[0m     compression \u001b[38;5;241m=\u001b[39m zipfile\u001b[38;5;241m.\u001b[39mZIP_STORED\n\u001b[1;32m--> 736\u001b[0m zipf \u001b[38;5;241m=\u001b[39m \u001b[43mzipfile_factory\u001b[49m\u001b[43m(\u001b[49m\u001b[43mfile\u001b[49m\u001b[43m,\u001b[49m\u001b[43m \u001b[49m\u001b[43mmode\u001b[49m\u001b[38;5;241;43m=\u001b[39;49m\u001b[38;5;124;43m\"\u001b[39;49m\u001b[38;5;124;43mw\u001b[39;49m\u001b[38;5;124;43m\"\u001b[39;49m\u001b[43m,\u001b[49m\u001b[43m \u001b[49m\u001b[43mcompression\u001b[49m\u001b[38;5;241;43m=\u001b[39;49m\u001b[43mcompression\u001b[49m\u001b[43m)\u001b[49m\n\u001b[0;32m    738\u001b[0m \u001b[38;5;28;01mfor\u001b[39;00m key, val \u001b[38;5;129;01min\u001b[39;00m namedict\u001b[38;5;241m.\u001b[39mitems():\n\u001b[0;32m    739\u001b[0m     fname \u001b[38;5;241m=\u001b[39m key \u001b[38;5;241m+\u001b[39m \u001b[38;5;124m'\u001b[39m\u001b[38;5;124m.npy\u001b[39m\u001b[38;5;124m'\u001b[39m\n",
      "File \u001b[1;32mc:\\Users\\pcteste1\\anaconda3\\envs\\cv-book\\lib\\site-packages\\numpy\\lib\\npyio.py:103\u001b[0m, in \u001b[0;36mzipfile_factory\u001b[1;34m(file, *args, **kwargs)\u001b[0m\n\u001b[0;32m    101\u001b[0m \u001b[38;5;28;01mimport\u001b[39;00m \u001b[38;5;21;01mzipfile\u001b[39;00m\n\u001b[0;32m    102\u001b[0m kwargs[\u001b[38;5;124m'\u001b[39m\u001b[38;5;124mallowZip64\u001b[39m\u001b[38;5;124m'\u001b[39m] \u001b[38;5;241m=\u001b[39m \u001b[38;5;28;01mTrue\u001b[39;00m\n\u001b[1;32m--> 103\u001b[0m \u001b[38;5;28;01mreturn\u001b[39;00m zipfile\u001b[38;5;241m.\u001b[39mZipFile(file, \u001b[38;5;241m*\u001b[39margs, \u001b[38;5;241m*\u001b[39m\u001b[38;5;241m*\u001b[39mkwargs)\n",
      "File \u001b[1;32mc:\\Users\\pcteste1\\anaconda3\\envs\\cv-book\\lib\\zipfile.py:1248\u001b[0m, in \u001b[0;36mZipFile.__init__\u001b[1;34m(self, file, mode, compression, allowZip64, compresslevel, strict_timestamps)\u001b[0m\n\u001b[0;32m   1246\u001b[0m \u001b[38;5;28;01mwhile\u001b[39;00m \u001b[38;5;28;01mTrue\u001b[39;00m:\n\u001b[0;32m   1247\u001b[0m     \u001b[38;5;28;01mtry\u001b[39;00m:\n\u001b[1;32m-> 1248\u001b[0m         \u001b[38;5;28mself\u001b[39m\u001b[38;5;241m.\u001b[39mfp \u001b[38;5;241m=\u001b[39m \u001b[43mio\u001b[49m\u001b[38;5;241;43m.\u001b[39;49m\u001b[43mopen\u001b[49m\u001b[43m(\u001b[49m\u001b[43mfile\u001b[49m\u001b[43m,\u001b[49m\u001b[43m \u001b[49m\u001b[43mfilemode\u001b[49m\u001b[43m)\u001b[49m\n\u001b[0;32m   1249\u001b[0m     \u001b[38;5;28;01mexcept\u001b[39;00m \u001b[38;5;167;01mOSError\u001b[39;00m:\n\u001b[0;32m   1250\u001b[0m         \u001b[38;5;28;01mif\u001b[39;00m filemode \u001b[38;5;129;01min\u001b[39;00m modeDict:\n",
      "\u001b[1;31mFileNotFoundError\u001b[0m: [Errno 2] No such file or directory: 'data/assistments12/q_mat.npz'"
     ]
    }
   ],
   "source": [
    "df, Q_mat = prepare_assistments12(min_interactions_per_user=10,\n",
    "\t\t\t\t\t\t\t\t\t\t  remove_nan_skills=True,\n",
    "\t\t\t\t\t\t\t\t\t\t  verbose=True)"
   ]
  },
  {
   "cell_type": "code",
   "execution_count": null,
   "metadata": {},
   "outputs": [],
   "source": []
  }
 ],
 "metadata": {
  "kernelspec": {
   "display_name": "Python 3",
   "language": "python",
   "name": "python3"
  },
  "language_info": {
   "codemirror_mode": {
    "name": "ipython",
    "version": 3
   },
   "file_extension": ".py",
   "mimetype": "text/x-python",
   "name": "python",
   "nbconvert_exporter": "python",
   "pygments_lexer": "ipython3",
   "version": "3.9.17"
  }
 },
 "nbformat": 4,
 "nbformat_minor": 2
}
